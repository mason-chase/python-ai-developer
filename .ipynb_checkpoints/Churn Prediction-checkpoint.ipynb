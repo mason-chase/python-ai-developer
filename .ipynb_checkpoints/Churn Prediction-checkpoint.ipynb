{
 "cells": [
  {
   "cell_type": "code",
   "execution_count": 12,
   "id": "c4283839",
   "metadata": {},
   "outputs": [],
   "source": [
    "import numpy as np\n",
    "import pandas as pd\n",
    "import matplotlib.pyplot as plt\n",
    "from sklearn.ensemble import RandomForestClassifier, GradientBoostingClassifier, ExtraTreesClassifier, BaggingClassifier\n",
    "from sklearn.linear_model import LogisticRegressionCV\n",
    "from sklearn.svm import SVC\n",
    "from sklearn.preprocessing import OneHotEncoder\n",
    "from sklearn.model_selection import GridSearchCV, train_test_split"
   ]
  },
  {
   "cell_type": "code",
   "execution_count": 2,
   "id": "17a76496",
   "metadata": {},
   "outputs": [],
   "source": [
    "data = pd.read_csv('../data/WA_Fn-UseC_-Telco-Customer-Churn.csv')"
   ]
  },
  {
   "cell_type": "markdown",
   "id": "a3d66dd4",
   "metadata": {},
   "source": [
    "# Data Cleaning"
   ]
  },
  {
   "cell_type": "code",
   "execution_count": 3,
   "id": "2ccf5629",
   "metadata": {},
   "outputs": [],
   "source": [
    "to_drop = ['customerID']\n",
    "data = data.drop(to_drop, axis=1)"
   ]
  },
  {
   "cell_type": "markdown",
   "id": "98df9664",
   "metadata": {},
   "source": [
    "# Preprocessing"
   ]
  },
  {
   "cell_type": "code",
   "execution_count": 4,
   "id": "e7138c34",
   "metadata": {},
   "outputs": [],
   "source": [
    "for column in data.columns:\n",
    "    if len(np.unique(data[column])) == 2:\n",
    "        data[column] = pd.factorize(data[column])[0]"
   ]
  },
  {
   "cell_type": "code",
   "execution_count": 5,
   "id": "90b7cf4e",
   "metadata": {},
   "outputs": [],
   "source": [
    "to_be_onehot = ['MultipleLines', 'InternetService', 'OnlineSecurity', 'OnlineBackup',\n",
    "          'DeviceProtection', 'TechSupport', 'StreamingTV', 'StreamingMovies',\n",
    "          'Contract', 'PaymentMethod']\n",
    "\n",
    "for column in to_be_onehot:\n",
    "    # create an instance of OneHotEncoder\n",
    "    ohe = OneHotEncoder()\n",
    "\n",
    "    # use fit_transform() to convert the string variable to one-hot-encoded data\n",
    "    data_encoded = ohe.fit_transform(data[[column]]).toarray()\n",
    "\n",
    "    # create a new DataFrame with the one-hot-encoded data\n",
    "    data_onehot = pd.DataFrame(data_encoded, columns=ohe.get_feature_names_out([column]))\n",
    "    \n",
    "    data = pd.concat([data, data_onehot], axis=1)\n",
    "    data = data.drop(column, axis=1)"
   ]
  },
  {
   "cell_type": "code",
   "execution_count": 7,
   "id": "e07261d2",
   "metadata": {},
   "outputs": [],
   "source": [
    "X = data.drop('Churn', axis=1).values\n",
    "y = data[['Churn']].values\n",
    "\n",
    "X_train, X_test, y_train, y_test = train_test_split(X, y, test_size=0.3, stratify=y)"
   ]
  },
  {
   "cell_type": "code",
   "execution_count": 17,
   "id": "f5070a0f",
   "metadata": {},
   "outputs": [],
   "source": []
  },
  {
   "cell_type": "code",
   "execution_count": null,
   "id": "0059c179",
   "metadata": {},
   "outputs": [],
   "source": []
  }
 ],
 "metadata": {
  "kernelspec": {
   "display_name": "Python 3 (ipykernel)",
   "language": "python",
   "name": "python3"
  },
  "language_info": {
   "codemirror_mode": {
    "name": "ipython",
    "version": 3
   },
   "file_extension": ".py",
   "mimetype": "text/x-python",
   "name": "python",
   "nbconvert_exporter": "python",
   "pygments_lexer": "ipython3",
   "version": "3.9.13"
  }
 },
 "nbformat": 4,
 "nbformat_minor": 5
}
